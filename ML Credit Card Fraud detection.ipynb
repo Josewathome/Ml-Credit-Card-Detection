{
 "cells": [
  {
   "cell_type": "markdown",
   "id": "220ef9e6",
   "metadata": {},
   "source": [
    "# ML | CREDIT CARD FRAUD DETECTION\n",
    "## Using Random Forest Classifier using Scikit Learn"
   ]
  },
  {
   "cell_type": "markdown",
   "id": "e3f8cac9",
   "metadata": {},
   "source": [
    "### INPORTING Necessary Libraries"
   ]
  },
  {
   "cell_type": "code",
   "execution_count": 1,
   "id": "0f53712b",
   "metadata": {
    "scrolled": true
   },
   "outputs": [],
   "source": [
    "import numpy as np\n",
    "import pandas as pd\n",
    "import matplotlib.pyplot as plt\n",
    "import seaborn as sns\n",
    "from matplotlib import gridspec"
   ]
  },
  {
   "cell_type": "markdown",
   "id": "a0a6bda9",
   "metadata": {},
   "source": [
    "### Loading The Data"
   ]
  },
  {
   "cell_type": "code",
   "execution_count": 2,
   "id": "0519b1d1",
   "metadata": {},
   "outputs": [],
   "source": [
    "data = pd.read_csv(\"F:\\machine learning projects\\CLASSIFICATION\\P01\\creditcard.csv\")"
   ]
  },
  {
   "cell_type": "markdown",
   "id": "c507a66c",
   "metadata": {},
   "source": [
    "### Understanding the data"
   ]
  },
  {
   "cell_type": "code",
   "execution_count": 3,
   "id": "52e3a3ce",
   "metadata": {},
   "outputs": [
    {
     "name": "stdout",
     "output_type": "stream",
     "text": [
      "Shape of the data:  (284807, 31)\n"
     ]
    },
    {
     "data": {
      "text/html": [
       "<div>\n",
       "<style scoped>\n",
       "    .dataframe tbody tr th:only-of-type {\n",
       "        vertical-align: middle;\n",
       "    }\n",
       "\n",
       "    .dataframe tbody tr th {\n",
       "        vertical-align: top;\n",
       "    }\n",
       "\n",
       "    .dataframe thead th {\n",
       "        text-align: right;\n",
       "    }\n",
       "</style>\n",
       "<table border=\"1\" class=\"dataframe\">\n",
       "  <thead>\n",
       "    <tr style=\"text-align: right;\">\n",
       "      <th></th>\n",
       "      <th>Time</th>\n",
       "      <th>V1</th>\n",
       "      <th>V2</th>\n",
       "      <th>V3</th>\n",
       "      <th>V4</th>\n",
       "      <th>V5</th>\n",
       "      <th>V6</th>\n",
       "      <th>V7</th>\n",
       "      <th>V8</th>\n",
       "      <th>V9</th>\n",
       "      <th>...</th>\n",
       "      <th>V21</th>\n",
       "      <th>V22</th>\n",
       "      <th>V23</th>\n",
       "      <th>V24</th>\n",
       "      <th>V25</th>\n",
       "      <th>V26</th>\n",
       "      <th>V27</th>\n",
       "      <th>V28</th>\n",
       "      <th>Amount</th>\n",
       "      <th>Class</th>\n",
       "    </tr>\n",
       "  </thead>\n",
       "  <tbody>\n",
       "    <tr>\n",
       "      <th>0</th>\n",
       "      <td>0.0</td>\n",
       "      <td>-1.359807</td>\n",
       "      <td>-0.072781</td>\n",
       "      <td>2.536347</td>\n",
       "      <td>1.378155</td>\n",
       "      <td>-0.338321</td>\n",
       "      <td>0.462388</td>\n",
       "      <td>0.239599</td>\n",
       "      <td>0.098698</td>\n",
       "      <td>0.363787</td>\n",
       "      <td>...</td>\n",
       "      <td>-0.018307</td>\n",
       "      <td>0.277838</td>\n",
       "      <td>-0.110474</td>\n",
       "      <td>0.066928</td>\n",
       "      <td>0.128539</td>\n",
       "      <td>-0.189115</td>\n",
       "      <td>0.133558</td>\n",
       "      <td>-0.021053</td>\n",
       "      <td>149.62</td>\n",
       "      <td>0</td>\n",
       "    </tr>\n",
       "    <tr>\n",
       "      <th>1</th>\n",
       "      <td>0.0</td>\n",
       "      <td>1.191857</td>\n",
       "      <td>0.266151</td>\n",
       "      <td>0.166480</td>\n",
       "      <td>0.448154</td>\n",
       "      <td>0.060018</td>\n",
       "      <td>-0.082361</td>\n",
       "      <td>-0.078803</td>\n",
       "      <td>0.085102</td>\n",
       "      <td>-0.255425</td>\n",
       "      <td>...</td>\n",
       "      <td>-0.225775</td>\n",
       "      <td>-0.638672</td>\n",
       "      <td>0.101288</td>\n",
       "      <td>-0.339846</td>\n",
       "      <td>0.167170</td>\n",
       "      <td>0.125895</td>\n",
       "      <td>-0.008983</td>\n",
       "      <td>0.014724</td>\n",
       "      <td>2.69</td>\n",
       "      <td>0</td>\n",
       "    </tr>\n",
       "    <tr>\n",
       "      <th>2</th>\n",
       "      <td>1.0</td>\n",
       "      <td>-1.358354</td>\n",
       "      <td>-1.340163</td>\n",
       "      <td>1.773209</td>\n",
       "      <td>0.379780</td>\n",
       "      <td>-0.503198</td>\n",
       "      <td>1.800499</td>\n",
       "      <td>0.791461</td>\n",
       "      <td>0.247676</td>\n",
       "      <td>-1.514654</td>\n",
       "      <td>...</td>\n",
       "      <td>0.247998</td>\n",
       "      <td>0.771679</td>\n",
       "      <td>0.909412</td>\n",
       "      <td>-0.689281</td>\n",
       "      <td>-0.327642</td>\n",
       "      <td>-0.139097</td>\n",
       "      <td>-0.055353</td>\n",
       "      <td>-0.059752</td>\n",
       "      <td>378.66</td>\n",
       "      <td>0</td>\n",
       "    </tr>\n",
       "    <tr>\n",
       "      <th>3</th>\n",
       "      <td>1.0</td>\n",
       "      <td>-0.966272</td>\n",
       "      <td>-0.185226</td>\n",
       "      <td>1.792993</td>\n",
       "      <td>-0.863291</td>\n",
       "      <td>-0.010309</td>\n",
       "      <td>1.247203</td>\n",
       "      <td>0.237609</td>\n",
       "      <td>0.377436</td>\n",
       "      <td>-1.387024</td>\n",
       "      <td>...</td>\n",
       "      <td>-0.108300</td>\n",
       "      <td>0.005274</td>\n",
       "      <td>-0.190321</td>\n",
       "      <td>-1.175575</td>\n",
       "      <td>0.647376</td>\n",
       "      <td>-0.221929</td>\n",
       "      <td>0.062723</td>\n",
       "      <td>0.061458</td>\n",
       "      <td>123.50</td>\n",
       "      <td>0</td>\n",
       "    </tr>\n",
       "    <tr>\n",
       "      <th>4</th>\n",
       "      <td>2.0</td>\n",
       "      <td>-1.158233</td>\n",
       "      <td>0.877737</td>\n",
       "      <td>1.548718</td>\n",
       "      <td>0.403034</td>\n",
       "      <td>-0.407193</td>\n",
       "      <td>0.095921</td>\n",
       "      <td>0.592941</td>\n",
       "      <td>-0.270533</td>\n",
       "      <td>0.817739</td>\n",
       "      <td>...</td>\n",
       "      <td>-0.009431</td>\n",
       "      <td>0.798278</td>\n",
       "      <td>-0.137458</td>\n",
       "      <td>0.141267</td>\n",
       "      <td>-0.206010</td>\n",
       "      <td>0.502292</td>\n",
       "      <td>0.219422</td>\n",
       "      <td>0.215153</td>\n",
       "      <td>69.99</td>\n",
       "      <td>0</td>\n",
       "    </tr>\n",
       "    <tr>\n",
       "      <th>5</th>\n",
       "      <td>2.0</td>\n",
       "      <td>-0.425966</td>\n",
       "      <td>0.960523</td>\n",
       "      <td>1.141109</td>\n",
       "      <td>-0.168252</td>\n",
       "      <td>0.420987</td>\n",
       "      <td>-0.029728</td>\n",
       "      <td>0.476201</td>\n",
       "      <td>0.260314</td>\n",
       "      <td>-0.568671</td>\n",
       "      <td>...</td>\n",
       "      <td>-0.208254</td>\n",
       "      <td>-0.559825</td>\n",
       "      <td>-0.026398</td>\n",
       "      <td>-0.371427</td>\n",
       "      <td>-0.232794</td>\n",
       "      <td>0.105915</td>\n",
       "      <td>0.253844</td>\n",
       "      <td>0.081080</td>\n",
       "      <td>3.67</td>\n",
       "      <td>0</td>\n",
       "    </tr>\n",
       "    <tr>\n",
       "      <th>6</th>\n",
       "      <td>4.0</td>\n",
       "      <td>1.229658</td>\n",
       "      <td>0.141004</td>\n",
       "      <td>0.045371</td>\n",
       "      <td>1.202613</td>\n",
       "      <td>0.191881</td>\n",
       "      <td>0.272708</td>\n",
       "      <td>-0.005159</td>\n",
       "      <td>0.081213</td>\n",
       "      <td>0.464960</td>\n",
       "      <td>...</td>\n",
       "      <td>-0.167716</td>\n",
       "      <td>-0.270710</td>\n",
       "      <td>-0.154104</td>\n",
       "      <td>-0.780055</td>\n",
       "      <td>0.750137</td>\n",
       "      <td>-0.257237</td>\n",
       "      <td>0.034507</td>\n",
       "      <td>0.005168</td>\n",
       "      <td>4.99</td>\n",
       "      <td>0</td>\n",
       "    </tr>\n",
       "    <tr>\n",
       "      <th>7</th>\n",
       "      <td>7.0</td>\n",
       "      <td>-0.644269</td>\n",
       "      <td>1.417964</td>\n",
       "      <td>1.074380</td>\n",
       "      <td>-0.492199</td>\n",
       "      <td>0.948934</td>\n",
       "      <td>0.428118</td>\n",
       "      <td>1.120631</td>\n",
       "      <td>-3.807864</td>\n",
       "      <td>0.615375</td>\n",
       "      <td>...</td>\n",
       "      <td>1.943465</td>\n",
       "      <td>-1.015455</td>\n",
       "      <td>0.057504</td>\n",
       "      <td>-0.649709</td>\n",
       "      <td>-0.415267</td>\n",
       "      <td>-0.051634</td>\n",
       "      <td>-1.206921</td>\n",
       "      <td>-1.085339</td>\n",
       "      <td>40.80</td>\n",
       "      <td>0</td>\n",
       "    </tr>\n",
       "    <tr>\n",
       "      <th>8</th>\n",
       "      <td>7.0</td>\n",
       "      <td>-0.894286</td>\n",
       "      <td>0.286157</td>\n",
       "      <td>-0.113192</td>\n",
       "      <td>-0.271526</td>\n",
       "      <td>2.669599</td>\n",
       "      <td>3.721818</td>\n",
       "      <td>0.370145</td>\n",
       "      <td>0.851084</td>\n",
       "      <td>-0.392048</td>\n",
       "      <td>...</td>\n",
       "      <td>-0.073425</td>\n",
       "      <td>-0.268092</td>\n",
       "      <td>-0.204233</td>\n",
       "      <td>1.011592</td>\n",
       "      <td>0.373205</td>\n",
       "      <td>-0.384157</td>\n",
       "      <td>0.011747</td>\n",
       "      <td>0.142404</td>\n",
       "      <td>93.20</td>\n",
       "      <td>0</td>\n",
       "    </tr>\n",
       "    <tr>\n",
       "      <th>9</th>\n",
       "      <td>9.0</td>\n",
       "      <td>-0.338262</td>\n",
       "      <td>1.119593</td>\n",
       "      <td>1.044367</td>\n",
       "      <td>-0.222187</td>\n",
       "      <td>0.499361</td>\n",
       "      <td>-0.246761</td>\n",
       "      <td>0.651583</td>\n",
       "      <td>0.069539</td>\n",
       "      <td>-0.736727</td>\n",
       "      <td>...</td>\n",
       "      <td>-0.246914</td>\n",
       "      <td>-0.633753</td>\n",
       "      <td>-0.120794</td>\n",
       "      <td>-0.385050</td>\n",
       "      <td>-0.069733</td>\n",
       "      <td>0.094199</td>\n",
       "      <td>0.246219</td>\n",
       "      <td>0.083076</td>\n",
       "      <td>3.68</td>\n",
       "      <td>0</td>\n",
       "    </tr>\n",
       "  </tbody>\n",
       "</table>\n",
       "<p>10 rows × 31 columns</p>\n",
       "</div>"
      ],
      "text/plain": [
       "   Time        V1        V2        V3        V4        V5        V6        V7  \\\n",
       "0   0.0 -1.359807 -0.072781  2.536347  1.378155 -0.338321  0.462388  0.239599   \n",
       "1   0.0  1.191857  0.266151  0.166480  0.448154  0.060018 -0.082361 -0.078803   \n",
       "2   1.0 -1.358354 -1.340163  1.773209  0.379780 -0.503198  1.800499  0.791461   \n",
       "3   1.0 -0.966272 -0.185226  1.792993 -0.863291 -0.010309  1.247203  0.237609   \n",
       "4   2.0 -1.158233  0.877737  1.548718  0.403034 -0.407193  0.095921  0.592941   \n",
       "5   2.0 -0.425966  0.960523  1.141109 -0.168252  0.420987 -0.029728  0.476201   \n",
       "6   4.0  1.229658  0.141004  0.045371  1.202613  0.191881  0.272708 -0.005159   \n",
       "7   7.0 -0.644269  1.417964  1.074380 -0.492199  0.948934  0.428118  1.120631   \n",
       "8   7.0 -0.894286  0.286157 -0.113192 -0.271526  2.669599  3.721818  0.370145   \n",
       "9   9.0 -0.338262  1.119593  1.044367 -0.222187  0.499361 -0.246761  0.651583   \n",
       "\n",
       "         V8        V9  ...       V21       V22       V23       V24       V25  \\\n",
       "0  0.098698  0.363787  ... -0.018307  0.277838 -0.110474  0.066928  0.128539   \n",
       "1  0.085102 -0.255425  ... -0.225775 -0.638672  0.101288 -0.339846  0.167170   \n",
       "2  0.247676 -1.514654  ...  0.247998  0.771679  0.909412 -0.689281 -0.327642   \n",
       "3  0.377436 -1.387024  ... -0.108300  0.005274 -0.190321 -1.175575  0.647376   \n",
       "4 -0.270533  0.817739  ... -0.009431  0.798278 -0.137458  0.141267 -0.206010   \n",
       "5  0.260314 -0.568671  ... -0.208254 -0.559825 -0.026398 -0.371427 -0.232794   \n",
       "6  0.081213  0.464960  ... -0.167716 -0.270710 -0.154104 -0.780055  0.750137   \n",
       "7 -3.807864  0.615375  ...  1.943465 -1.015455  0.057504 -0.649709 -0.415267   \n",
       "8  0.851084 -0.392048  ... -0.073425 -0.268092 -0.204233  1.011592  0.373205   \n",
       "9  0.069539 -0.736727  ... -0.246914 -0.633753 -0.120794 -0.385050 -0.069733   \n",
       "\n",
       "        V26       V27       V28  Amount  Class  \n",
       "0 -0.189115  0.133558 -0.021053  149.62      0  \n",
       "1  0.125895 -0.008983  0.014724    2.69      0  \n",
       "2 -0.139097 -0.055353 -0.059752  378.66      0  \n",
       "3 -0.221929  0.062723  0.061458  123.50      0  \n",
       "4  0.502292  0.219422  0.215153   69.99      0  \n",
       "5  0.105915  0.253844  0.081080    3.67      0  \n",
       "6 -0.257237  0.034507  0.005168    4.99      0  \n",
       "7 -0.051634 -1.206921 -1.085339   40.80      0  \n",
       "8 -0.384157  0.011747  0.142404   93.20      0  \n",
       "9  0.094199  0.246219  0.083076    3.68      0  \n",
       "\n",
       "[10 rows x 31 columns]"
      ]
     },
     "execution_count": 3,
     "metadata": {},
     "output_type": "execute_result"
    }
   ],
   "source": [
    "# view the first 10 rows\n",
    "print('Shape of the data: ', data.shape)\n",
    "data.head(10)"
   ]
  },
  {
   "cell_type": "markdown",
   "id": "625344c4",
   "metadata": {},
   "source": [
    "### Describing  the Data"
   ]
  },
  {
   "cell_type": "code",
   "execution_count": 4,
   "id": "68c13ca8",
   "metadata": {
    "scrolled": true
   },
   "outputs": [
    {
     "name": "stdout",
     "output_type": "stream",
     "text": [
      "shape of the data\n",
      "(28481, 31)\n",
      "\n",
      " Summary of data \n",
      "\n",
      "                Time            V1            V2            V3            V4  \\\n",
      "count   28481.000000  28481.000000  28481.000000  28481.000000  28481.000000   \n",
      "mean    94303.978126      0.000084     -0.007061      0.013951     -0.009899   \n",
      "std     47450.510233      1.939031      1.619107      1.520114      1.408995   \n",
      "min         0.000000    -40.470142    -38.430842    -31.103685     -4.897347   \n",
      "25%     53923.000000     -0.923893     -0.605220     -0.873069     -0.857457   \n",
      "50%     83955.000000      0.005146      0.056073      0.199804     -0.030054   \n",
      "75%    138785.000000      1.310402      0.797713      1.037859      0.728976   \n",
      "max    172788.000000      2.446505     16.713389      3.934537     12.114672   \n",
      "\n",
      "                 V5            V6            V7            V8            V9  \\\n",
      "count  28481.000000  28481.000000  28481.000000  28481.000000  28481.000000   \n",
      "mean       0.000024     -0.000812     -0.006474     -0.001324     -0.001497   \n",
      "std        1.352572      1.322328      1.183975      1.205769      1.093588   \n",
      "min      -25.025820    -23.496714    -28.011293    -38.751525     -8.960922   \n",
      "25%       -0.693905     -0.766712     -0.549531     -0.206978     -0.645238   \n",
      "50%       -0.059123     -0.274496      0.039802      0.023232     -0.053738   \n",
      "75%        0.613238      0.398508      0.566610      0.331188      0.597773   \n",
      "max       34.099309     16.355534     24.664527     20.007208      9.234623   \n",
      "\n",
      "       ...           V21           V22           V23           V24  \\\n",
      "count  ...  28481.000000  28481.000000  28481.000000  28481.000000   \n",
      "mean   ...      0.005671     -0.004059     -0.003998      0.004771   \n",
      "std    ...      0.728019      0.729095      0.650767      0.606139   \n",
      "min    ...    -18.458144     -6.152177    -44.807735     -2.814898   \n",
      "25%    ...     -0.226879     -0.540882     -0.163337     -0.351306   \n",
      "50%    ...     -0.030813      0.003482     -0.010751      0.043446   \n",
      "75%    ...      0.187999      0.531149      0.148103      0.439801   \n",
      "max    ...     15.904677      7.057496     19.002942      3.957013   \n",
      "\n",
      "                V25           V26           V27           V28        Amount  \\\n",
      "count  28481.000000  28481.000000  28481.000000  28481.000000  28481.000000   \n",
      "mean       0.000166      0.001163      0.003692      0.002563     88.577751   \n",
      "std        0.522213      0.482634      0.376358      0.296151    234.110331   \n",
      "min      -10.295397     -1.653193     -7.764147     -8.338123      0.000000   \n",
      "25%       -0.316753     -0.324297     -0.070970     -0.052413      5.950000   \n",
      "50%        0.019872     -0.051665      0.001518      0.011503     21.990000   \n",
      "75%        0.349295      0.241840      0.090981      0.077893     77.010000   \n",
      "max        4.513681      3.119295      8.254376     15.632689   6000.000000   \n",
      "\n",
      "              Class  \n",
      "count  28481.000000  \n",
      "mean       0.001966  \n",
      "std        0.044299  \n",
      "min        0.000000  \n",
      "25%        0.000000  \n",
      "50%        0.000000  \n",
      "75%        0.000000  \n",
      "max        1.000000  \n",
      "\n",
      "[8 rows x 31 columns]\n"
     ]
    }
   ],
   "source": [
    "\n",
    "#print the shape of the data\n",
    "data_sample = data.sample(frac = 0.1, random_state = 48) # we use this code to get a sample of our data 10 % of the data, for faster processing\n",
    "\n",
    "print('shape of the data')\n",
    "print(data_sample.shape)\n",
    "print('\\n Summary of data \\n')\n",
    "print(data_sample.describe())"
   ]
  },
  {
   "cell_type": "markdown",
   "id": "5a9f6840",
   "metadata": {},
   "source": [
    "### Imbalance in the data"
   ]
  },
  {
   "cell_type": "code",
   "execution_count": 5,
   "id": "2e96c0e3",
   "metadata": {},
   "outputs": [
    {
     "name": "stdout",
     "output_type": "stream",
     "text": [
      "0.19700967458223395 %\n",
      "Fraud Cases : 56\n",
      "The Valid Transactions : 28425\n"
     ]
    }
   ],
   "source": [
    "# To determine number of fraud cases in data set\n",
    "fraud = data_sample[data_sample['Class']== 1]\n",
    "valid = data_sample[data_sample['Class']== 0]\n",
    "\n",
    "outlierFraction = len(fraud)/float(len(valid)) * 100\n",
    "print(outlierFraction, '%')\n",
    "print('Fraud Cases : {}'.format(len(data_sample[data_sample['Class']==1])))\n",
    "print('The Valid Transactions : {}'.format(len(data_sample[data_sample['Class']==0])))"
   ]
  },
  {
   "cell_type": "markdown",
   "id": "322ced58",
   "metadata": {},
   "source": [
    "This show that only 0.19 % were fraudulent transactions out of all the trasactions.\n",
    "#### This data is Highly Unbalanced\n",
    "first we will apply our model without balancing it if we dont get a good accuracy then we can find a way to balance this data set."
   ]
  },
  {
   "cell_type": "markdown",
   "id": "5a89f121",
   "metadata": {},
   "source": [
    "### details for Fraudulent Transactions "
   ]
  },
  {
   "cell_type": "code",
   "execution_count": 6,
   "id": "b79a18e9",
   "metadata": {},
   "outputs": [
    {
     "name": "stdout",
     "output_type": "stream",
     "text": [
      "Amount details of the Fraudulent Transactions\n"
     ]
    },
    {
     "data": {
      "text/plain": [
       "count     56.000000\n",
       "mean      91.449464\n",
       "std      164.524448\n",
       "min        0.000000\n",
       "25%        1.000000\n",
       "50%       18.520000\n",
       "75%      109.307500\n",
       "max      996.270000\n",
       "Name: Amount, dtype: float64"
      ]
     },
     "execution_count": 6,
     "metadata": {},
     "output_type": "execute_result"
    }
   ],
   "source": [
    "print('Amount details of the Fraudulent Transactions')\n",
    "fraud.Amount.describe()"
   ]
  },
  {
   "cell_type": "markdown",
   "id": "fbc9e1d8",
   "metadata": {},
   "source": [
    "### details for Valid Transactions "
   ]
  },
  {
   "cell_type": "code",
   "execution_count": 7,
   "id": "0acf8443",
   "metadata": {
    "scrolled": true
   },
   "outputs": [
    {
     "name": "stdout",
     "output_type": "stream",
     "text": [
      "Amount details of the Valid Transactions\n"
     ]
    },
    {
     "data": {
      "text/plain": [
       "count    28425.000000\n",
       "mean        88.572094\n",
       "std        234.229021\n",
       "min          0.000000\n",
       "25%          5.980000\n",
       "50%         21.990000\n",
       "75%         77.000000\n",
       "max       6000.000000\n",
       "Name: Amount, dtype: float64"
      ]
     },
     "execution_count": 7,
     "metadata": {},
     "output_type": "execute_result"
    }
   ],
   "source": [
    "print('Amount details of the Valid Transactions')\n",
    "valid.Amount.describe()"
   ]
  },
  {
   "cell_type": "markdown",
   "id": "ee0a548e",
   "metadata": {},
   "source": [
    "As we can see the Mean for the fraud trasactions is High Thisis a crucial problem that needs to be dealt with"
   ]
  },
  {
   "cell_type": "markdown",
   "id": "6559adc1",
   "metadata": {},
   "source": [
    "### Plotting the Correlation Matrix\n",
    "in this method we can be able to have an idea of how features correlate with each other and can help us predict what features that are most relevant for the prediction."
   ]
  },
  {
   "cell_type": "code",
   "execution_count": 8,
   "id": "278372b7",
   "metadata": {},
   "outputs": [
    {
     "data": {
      "image/png": "[encoded data removed]",
      "text/plain": [
       "<Figure size 1200x900 with 2 Axes>"
      ]
     },
     "metadata": {},
     "output_type": "display_data"
    }
   ],
   "source": [
    "#Correlation Matrix\n",
    "corrmat = data_sample.corr()\n",
    "fig = plt.figure(figsize = (12, 9))\n",
    "sns.heatmap(corrmat, vmax = .8, square = True)\n",
    "plt.show()"
   ]
  },
  {
   "cell_type": "markdown",
   "id": "8fb1d547",
   "metadata": {},
   "source": [
    "we can see that  most of the features do not correlate to other features but there are some features that eiter has a positive or negative correlation,example is the v2  and the ammount have a negative correlation."
   ]
  },
  {
   "cell_type": "markdown",
   "id": "f1cd3b9d",
   "metadata": {},
   "source": [
    "### Separating the X and the Y values.\n",
    "Divinding the data into inputs parameters and outputs value formart."
   ]
  },
  {
   "cell_type": "code",
   "execution_count": 9,
   "id": "b12232ed",
   "metadata": {},
   "outputs": [
    {
     "name": "stdout",
     "output_type": "stream",
     "text": [
      "(28481, 30)\n",
      "(28481,)\n"
     ]
    }
   ],
   "source": [
    "# dividing the X and Y from the dataset\n",
    "X = data_sample.drop(['Class'], axis = 1)\n",
    "Y = data_sample['Class']\n",
    "print(X.shape)\n",
    "print(Y.shape)"
   ]
  },
  {
   "cell_type": "code",
   "execution_count": 10,
   "id": "6a598b69",
   "metadata": {},
   "outputs": [],
   "source": [
    "# getting Just the values for the sake of processing\n",
    "#(itsa a numpy array with no columns)\n",
    "xData = X.values\n",
    "yData = Y.values"
   ]
  },
  {
   "cell_type": "markdown",
   "id": "a9fdefdb",
   "metadata": {},
   "source": [
    "### Training and Testing Bifurcation\n",
    "now we split the data into Two main Groups. One Training The model and the other for testing our models performance."
   ]
  },
  {
   "cell_type": "code",
   "execution_count": 13,
   "id": "2eb5b6ae",
   "metadata": {},
   "outputs": [],
   "source": [
    "# WE use Scikit-learn to split the data.\n",
    "from sklearn.model_selection import train_test_split\n",
    "\n",
    "# split the data into training and testing\n",
    "\n",
    "xTrain, xTest, yTrain, yTest = train_test_split(xData, yData, test_size = 0.2, random_state = 42)"
   ]
  },
  {
   "cell_type": "markdown",
   "id": "89aa0162",
   "metadata": {},
   "source": [
    "## Building a Random Forest Model using scikit learn"
   ]
  },
  {
   "cell_type": "code",
   "execution_count": 14,
   "id": "db902074",
   "metadata": {},
   "outputs": [],
   "source": [
    "from sklearn.ensemble import RandomForestClassifier\n",
    "# Model\n",
    "rfc = RandomForestClassifier()\n",
    "rfc.fit(xTrain, yTrain)\n",
    "\n",
    "# Predictions\n",
    "yPred = rfc.predict(xTest)"
   ]
  },
  {
   "cell_type": "markdown",
   "id": "2953cebc",
   "metadata": {},
   "source": [
    "### Building all Kinds of evaluating Prameters\n",
    "\n",
    "Evaluating the classifier\n",
    "\n",
    "Printing every score of the classifier\n",
    "\n",
    "Scoring in everything"
   ]
  },
  {
   "cell_type": "code",
   "execution_count": 16,
   "id": "6198934b",
   "metadata": {},
   "outputs": [],
   "source": [
    "from sklearn.metrics import classification_report, accuracy_score\n",
    "from sklearn.metrics import precision_score, recall_score\n",
    "from sklearn.metrics import f1_score, matthews_corrcoef\n",
    "from sklearn.metrics import confusion_matrix"
   ]
  },
  {
   "cell_type": "code",
   "execution_count": 20,
   "id": "c524e258",
   "metadata": {},
   "outputs": [
    {
     "name": "stdout",
     "output_type": "stream",
     "text": [
      "The model used is Random Forest Classifier\n",
      "The Accuracy  is 0.9992978760751272\n",
      "The Precision is 1.0\n",
      "The Recall is 0.7333333333333333 \n",
      "The F1-Score is 0.846153846153846 \n",
      "The Matthews Correlation Coefficent is 0.8560475724861787\n"
     ]
    }
   ],
   "source": [
    "n_outliers = len(fraud)\n",
    "n_errors = (yPred != yTest).sum()\n",
    "print('The model used is Random Forest Classifier')\n",
    "\n",
    "acc = accuracy_score(yTest, yPred)\n",
    "print('The Accuracy  is {}'.format(acc))\n",
    "\n",
    "prec = precision_score (yTest, yPred)\n",
    "print('The Precision is {}'.format(prec))\n",
    "\n",
    "rec = recall_score(yTest, yPred)\n",
    "print('The Recall is {} '.format(rec))\n",
    "\n",
    "f1 = f1_score(yTest, yPred)\n",
    "print('The F1-Score is {} '.format(f1))\n",
    "\n",
    "MCC = matthews_corrcoef(yTest, yPred)\n",
    "print('The Matthews Correlation Coefficent is {}'.format(MCC))\n"
   ]
  },
  {
   "cell_type": "markdown",
   "id": "05c11a69",
   "metadata": {},
   "source": [
    "### Visualiz the Confusion Matrix"
   ]
  },
  {
   "cell_type": "code",
   "execution_count": 21,
   "id": "aa393edf",
   "metadata": {},
   "outputs": [
    {
     "data": {
      "image/png": "[encoded data removed]",
      "text/plain": [
       "<Figure size 1200x1200 with 2 Axes>"
      ]
     },
     "metadata": {},
     "output_type": "display_data"
    }
   ],
   "source": [
    "LABELS = ['Normal', 'Fraud']\n",
    "conf_matrix = confusion_matrix(yTest, yPred)\n",
    "plt.figure(figsize = (12 ,12))\n",
    "sns.heatmap(conf_matrix, xticklabels = LABELS,\n",
    "           yticklabels = LABELS, annot =True, fmt = \"d\");\n",
    "plt.title(\"Confusion Matrix\")\n",
    "plt.ylabel('True class')\n",
    "plt.xlabel('Predicted class')\n",
    "plt.show()\n",
    "            "
   ]
  },
  {
   "cell_type": "markdown",
   "id": "909f9143",
   "metadata": {},
   "source": [
    "### Our Random Forest Model is giving us better results even for the Recall which is usually the most tricky part"
   ]
  },
  {
   "cell_type": "markdown",
   "id": "6439dc4f",
   "metadata": {},
   "source": [
    "Joseph Wathome's work."
   ]
  }
 ],
 "metadata": {
  "kernelspec": {
   "display_name": "Python 3 (ipykernel)",
   "language": "python",
   "name": "python3"
  },
  "language_info": {
   "codemirror_mode": {
    "name": "ipython",
    "version": 3
   },
   "file_extension": ".py",
   "mimetype": "text/x-python",
   "name": "python",
   "nbconvert_exporter": "python",
   "pygments_lexer": "ipython3",
   "version": "3.11.5"
  }
 },
 "nbformat": 4,
 "nbformat_minor": 5
}
